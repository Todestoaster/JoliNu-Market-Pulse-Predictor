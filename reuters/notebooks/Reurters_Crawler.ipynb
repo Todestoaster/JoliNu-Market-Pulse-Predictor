{
 "cells": [
  {
   "cell_type": "markdown",
   "id": "40eeb0b1-fe38-4b52-ade3-1a58c315af09",
   "metadata": {},
   "source": [
    "# First attempt of developing web crawlers\n",
    "\n",
    "        !---------- Reuters AGB & Scraping -----------!\n",
    "Die Nutzungsbedingungen von Thomson Reuters und Reuters legen klare Beschränkungen bezüglich der Verwendung ihrer Inhalte fest, die gegen das Auslesen von Artikeln mittels Webscraping sprechen würden. Hier eine Zusammenfassung der relevanten Punkte in Markdown-Format:\n",
    "\n",
    "### Beschränkungen gemäß den Nutzungsbedingungen von Thomson Reuters:\n",
    "\n",
    "- **Lizenz**: Nutzern wird ein weltweites, nicht ausschließliches, nicht übertragbares, widerrufbares, begrenztes Recht zur Zugriff und Nutzung der Informationen und Dienste auf der Website gewährt, strikt gemäß diesen Bedingungen. Jede Nutzung, die über die Beschreibung von Thomson Reuters Produkten und Dienstleistungen zur Bildung von Nutzern oder potenziellen Nutzern hinausgeht, erfordert die vorherige schriftliche Zustimmung von Thomson Reuters【8†source】.\n",
    "\n",
    "- **Verbotene Nutzung**: Die Website darf nicht in einer Weise genutzt werden, die:\n",
    "  - Schaden anrichten könnte, einschließlich der Server, Netzwerke und anderer Komponenten, die für die Website genutzt werden.\n",
    "  - Versuche beinhaltet, unbefugten Zugriff zu erlangen zu Diensten, Konten, Computersystemen oder Netzwerken, die mit irgendeinem Server verbunden sind, der für die Website verwendet wird【8†source】.\n",
    "\n",
    "- **Weiterverbreitung und Kopieren**: Ohne ausdrückliche schriftliche Zustimmung von Thomson Reuters ist es nicht gestattet, Inhalte zu reproduzieren, zu duplizieren, zu kopieren, herunterzuladen, zu speichern, weiter zu übertragen, zu verbreiten, zu transferieren oder anderweitig zu nutzen【8†source】.\n",
    "\n",
    "### Fazit:\n",
    "Auf Grundlage dieser Bedingungen scheint Webscraping ohne ausdrückliche Zustimmung von Thomson Reuters gegen deren Nutzungsbedingungen zu verstoßen und könnte rechtliche Konsequenzen nach sich ziehen. Es ist empfehlenswert, direkt Kontakt mit Thomson Reuters aufzunehmen, um eine ausdrückliche Erlaubnis oder Lizenz für solche Aktivitäten zu erhalten, falls dies von Interesse ist.\n",
    "\n",
    "Für detailliertere Informationen besuchen Sie bitte direkt die [Thomson Reuters Nutzungsbedingungen](https://legal.thomsonreuters.com/en/products/terms-of-use).\n",
    "\n",
    "    !--------------------------------------------------------!"
   ]
  },
  {
   "cell_type": "markdown",
   "id": "7f5a83cd-4160-4332-8eb0-a2b2f61470b4",
   "metadata": {},
   "source": [
    "# Crawler"
   ]
  },
  {
   "cell_type": "markdown",
   "id": "a6923397-a4f4-4f70-b3c8-bbb7142b84e5",
   "metadata": {},
   "source": [
    "### 1. Reuters search fuction with \"Boeing\" as input\n",
    "\n",
    "Structure of Reuters search domain:\n",
    "\n",
    "https://www.reuters.com/site-search/?query=boeing&offset=20\n",
    "\n",
    "                                    ↑         ↑\n",
    "                           search string     number of articles displayed in the list (multiple of 20)\n",
    "                                        "
   ]
  },
  {
   "cell_type": "markdown",
   "id": "804fbdfe-7030-43ce-a46a-cdd0bf0ca725",
   "metadata": {},
   "source": [
    "### Crawler für Links zu den einzelnen Artikeln\n",
    "\n",
    "Es wird das gegebene Wort (searchString) in die Suchleiste bei Reuters eingegeben. Danach wird untersucht, wieviele Artikel es zu diesem Thema gibt. Auf basis dieser Anzahl werden die Anzeigeseiten durchgegangen um die jeweils 20 angezeigten Links zu den Artikeln zu bekommen. Diese werden in einer Liste gespeichert.\n",
    "\n",
    "Aufbau der Suchergebnisse: https://www.reuters.com/site-search/?query=boeing&offset=20"
   ]
  },
  {
   "cell_type": "code",
   "execution_count": 27,
   "id": "d889c53f-d1b9-4443-83dd-1bbec52b8061",
   "metadata": {},
   "outputs": [],
   "source": [
    "# Benötigte Pakete\n",
    "! pip install selenium"
   ]
  },
  {
   "cell_type": "code",
   "execution_count": 3,
   "id": "6e4e76e0-7b7d-4726-b0af-72b2a9af98fc",
   "metadata": {},
   "outputs": [
    {
     "name": "stdout",
     "output_type": "stream",
     "text": [
      "Es wird Seite 1 von 132 auf Links von Artikeln untersucht!\n",
      "Es wird Seite 2 von 132 auf Links von Artikeln untersucht!\n",
      "Es wird Seite 3 von 132 auf Links von Artikeln untersucht!\n",
      "Es wird Seite 4 von 132 auf Links von Artikeln untersucht!\n"
     ]
    },
    {
     "ename": "KeyboardInterrupt",
     "evalue": "",
     "output_type": "error",
     "traceback": [
      "\u001b[0;31m---------------------------------------------------------------------------\u001b[0m",
      "\u001b[0;31mKeyboardInterrupt\u001b[0m                         Traceback (most recent call last)",
      "Cell \u001b[0;32mIn[3], line 35\u001b[0m\n\u001b[1;32m     32\u001b[0m     time\u001b[38;5;241m.\u001b[39msleep(\u001b[38;5;241m5\u001b[39m)\n\u001b[1;32m     34\u001b[0m \u001b[38;5;66;03m# Alle Blöcke mit der angegebenen Klasse finden\u001b[39;00m\n\u001b[0;32m---> 35\u001b[0m items \u001b[38;5;241m=\u001b[39m \u001b[43mdriver\u001b[49m\u001b[38;5;241;43m.\u001b[39;49m\u001b[43mfind_elements\u001b[49m\u001b[43m(\u001b[49m\u001b[43mBy\u001b[49m\u001b[38;5;241;43m.\u001b[39;49m\u001b[43mCSS_SELECTOR\u001b[49m\u001b[43m,\u001b[49m\u001b[43m \u001b[49m\u001b[38;5;124;43m'\u001b[39;49m\u001b[38;5;124;43mli.search-results__item__2oqiX\u001b[39;49m\u001b[38;5;124;43m'\u001b[39;49m\u001b[43m)\u001b[49m\n\u001b[1;32m     36\u001b[0m \u001b[38;5;28;01mfor\u001b[39;00m item \u001b[38;5;129;01min\u001b[39;00m items:\n\u001b[1;32m     37\u001b[0m     \u001b[38;5;66;03m# Innerhalb jedes Items nach dem Link-Element suchen\u001b[39;00m\n\u001b[1;32m     38\u001b[0m     link_element \u001b[38;5;241m=\u001b[39m item\u001b[38;5;241m.\u001b[39mfind_element(By\u001b[38;5;241m.\u001b[39mCSS_SELECTOR, \u001b[38;5;124m'\u001b[39m\u001b[38;5;124mdiv.basic-card__container__2c0tk.default\u001b[39m\u001b[38;5;124m'\u001b[39m)\n",
      "File \u001b[0;32m~/.local/share/virtualenvs/Jupyter-K0eqoyk3/lib/python3.10/site-packages/selenium/webdriver/remote/webdriver.py:771\u001b[0m, in \u001b[0;36mWebDriver.find_elements\u001b[0;34m(self, by, value)\u001b[0m\n\u001b[1;32m    767\u001b[0m     value \u001b[38;5;241m=\u001b[39m \u001b[38;5;124mf\u001b[39m\u001b[38;5;124m'\u001b[39m\u001b[38;5;124m[name=\u001b[39m\u001b[38;5;124m\"\u001b[39m\u001b[38;5;132;01m{\u001b[39;00mvalue\u001b[38;5;132;01m}\u001b[39;00m\u001b[38;5;124m\"\u001b[39m\u001b[38;5;124m]\u001b[39m\u001b[38;5;124m'\u001b[39m\n\u001b[1;32m    769\u001b[0m \u001b[38;5;66;03m# Return empty list if driver returns null\u001b[39;00m\n\u001b[1;32m    770\u001b[0m \u001b[38;5;66;03m# See https://github.com/SeleniumHQ/selenium/issues/4555\u001b[39;00m\n\u001b[0;32m--> 771\u001b[0m \u001b[38;5;28;01mreturn\u001b[39;00m \u001b[38;5;28;43mself\u001b[39;49m\u001b[38;5;241;43m.\u001b[39;49m\u001b[43mexecute\u001b[49m\u001b[43m(\u001b[49m\u001b[43mCommand\u001b[49m\u001b[38;5;241;43m.\u001b[39;49m\u001b[43mFIND_ELEMENTS\u001b[49m\u001b[43m,\u001b[49m\u001b[43m \u001b[49m\u001b[43m{\u001b[49m\u001b[38;5;124;43m\"\u001b[39;49m\u001b[38;5;124;43musing\u001b[39;49m\u001b[38;5;124;43m\"\u001b[39;49m\u001b[43m:\u001b[49m\u001b[43m \u001b[49m\u001b[43mby\u001b[49m\u001b[43m,\u001b[49m\u001b[43m \u001b[49m\u001b[38;5;124;43m\"\u001b[39;49m\u001b[38;5;124;43mvalue\u001b[39;49m\u001b[38;5;124;43m\"\u001b[39;49m\u001b[43m:\u001b[49m\u001b[43m \u001b[49m\u001b[43mvalue\u001b[49m\u001b[43m}\u001b[49m\u001b[43m)\u001b[49m[\u001b[38;5;124m\"\u001b[39m\u001b[38;5;124mvalue\u001b[39m\u001b[38;5;124m\"\u001b[39m] \u001b[38;5;129;01mor\u001b[39;00m []\n",
      "File \u001b[0;32m~/.local/share/virtualenvs/Jupyter-K0eqoyk3/lib/python3.10/site-packages/selenium/webdriver/remote/webdriver.py:345\u001b[0m, in \u001b[0;36mWebDriver.execute\u001b[0;34m(self, driver_command, params)\u001b[0m\n\u001b[1;32m    342\u001b[0m     \u001b[38;5;28;01melif\u001b[39;00m \u001b[38;5;124m\"\u001b[39m\u001b[38;5;124msessionId\u001b[39m\u001b[38;5;124m\"\u001b[39m \u001b[38;5;129;01mnot\u001b[39;00m \u001b[38;5;129;01min\u001b[39;00m params:\n\u001b[1;32m    343\u001b[0m         params[\u001b[38;5;124m\"\u001b[39m\u001b[38;5;124msessionId\u001b[39m\u001b[38;5;124m\"\u001b[39m] \u001b[38;5;241m=\u001b[39m \u001b[38;5;28mself\u001b[39m\u001b[38;5;241m.\u001b[39msession_id\n\u001b[0;32m--> 345\u001b[0m response \u001b[38;5;241m=\u001b[39m \u001b[38;5;28;43mself\u001b[39;49m\u001b[38;5;241;43m.\u001b[39;49m\u001b[43mcommand_executor\u001b[49m\u001b[38;5;241;43m.\u001b[39;49m\u001b[43mexecute\u001b[49m\u001b[43m(\u001b[49m\u001b[43mdriver_command\u001b[49m\u001b[43m,\u001b[49m\u001b[43m \u001b[49m\u001b[43mparams\u001b[49m\u001b[43m)\u001b[49m\n\u001b[1;32m    346\u001b[0m \u001b[38;5;28;01mif\u001b[39;00m response:\n\u001b[1;32m    347\u001b[0m     \u001b[38;5;28mself\u001b[39m\u001b[38;5;241m.\u001b[39merror_handler\u001b[38;5;241m.\u001b[39mcheck_response(response)\n",
      "File \u001b[0;32m~/.local/share/virtualenvs/Jupyter-K0eqoyk3/lib/python3.10/site-packages/selenium/webdriver/remote/remote_connection.py:302\u001b[0m, in \u001b[0;36mRemoteConnection.execute\u001b[0;34m(self, command, params)\u001b[0m\n\u001b[1;32m    300\u001b[0m trimmed \u001b[38;5;241m=\u001b[39m \u001b[38;5;28mself\u001b[39m\u001b[38;5;241m.\u001b[39m_trim_large_entries(params)\n\u001b[1;32m    301\u001b[0m LOGGER\u001b[38;5;241m.\u001b[39mdebug(\u001b[38;5;124m\"\u001b[39m\u001b[38;5;132;01m%s\u001b[39;00m\u001b[38;5;124m \u001b[39m\u001b[38;5;132;01m%s\u001b[39;00m\u001b[38;5;124m \u001b[39m\u001b[38;5;132;01m%s\u001b[39;00m\u001b[38;5;124m\"\u001b[39m, command_info[\u001b[38;5;241m0\u001b[39m], url, \u001b[38;5;28mstr\u001b[39m(trimmed))\n\u001b[0;32m--> 302\u001b[0m \u001b[38;5;28;01mreturn\u001b[39;00m \u001b[38;5;28;43mself\u001b[39;49m\u001b[38;5;241;43m.\u001b[39;49m\u001b[43m_request\u001b[49m\u001b[43m(\u001b[49m\u001b[43mcommand_info\u001b[49m\u001b[43m[\u001b[49m\u001b[38;5;241;43m0\u001b[39;49m\u001b[43m]\u001b[49m\u001b[43m,\u001b[49m\u001b[43m \u001b[49m\u001b[43murl\u001b[49m\u001b[43m,\u001b[49m\u001b[43m \u001b[49m\u001b[43mbody\u001b[49m\u001b[38;5;241;43m=\u001b[39;49m\u001b[43mdata\u001b[49m\u001b[43m)\u001b[49m\n",
      "File \u001b[0;32m~/.local/share/virtualenvs/Jupyter-K0eqoyk3/lib/python3.10/site-packages/selenium/webdriver/remote/remote_connection.py:322\u001b[0m, in \u001b[0;36mRemoteConnection._request\u001b[0;34m(self, method, url, body)\u001b[0m\n\u001b[1;32m    319\u001b[0m     body \u001b[38;5;241m=\u001b[39m \u001b[38;5;28;01mNone\u001b[39;00m\n\u001b[1;32m    321\u001b[0m \u001b[38;5;28;01mif\u001b[39;00m \u001b[38;5;28mself\u001b[39m\u001b[38;5;241m.\u001b[39mkeep_alive:\n\u001b[0;32m--> 322\u001b[0m     response \u001b[38;5;241m=\u001b[39m \u001b[38;5;28;43mself\u001b[39;49m\u001b[38;5;241;43m.\u001b[39;49m\u001b[43m_conn\u001b[49m\u001b[38;5;241;43m.\u001b[39;49m\u001b[43mrequest\u001b[49m\u001b[43m(\u001b[49m\u001b[43mmethod\u001b[49m\u001b[43m,\u001b[49m\u001b[43m \u001b[49m\u001b[43murl\u001b[49m\u001b[43m,\u001b[49m\u001b[43m \u001b[49m\u001b[43mbody\u001b[49m\u001b[38;5;241;43m=\u001b[39;49m\u001b[43mbody\u001b[49m\u001b[43m,\u001b[49m\u001b[43m \u001b[49m\u001b[43mheaders\u001b[49m\u001b[38;5;241;43m=\u001b[39;49m\u001b[43mheaders\u001b[49m\u001b[43m)\u001b[49m\n\u001b[1;32m    323\u001b[0m     statuscode \u001b[38;5;241m=\u001b[39m response\u001b[38;5;241m.\u001b[39mstatus\n\u001b[1;32m    324\u001b[0m \u001b[38;5;28;01melse\u001b[39;00m:\n",
      "File \u001b[0;32m~/.local/share/virtualenvs/Jupyter-K0eqoyk3/lib/python3.10/site-packages/urllib3/request.py:81\u001b[0m, in \u001b[0;36mRequestMethods.request\u001b[0;34m(self, method, url, fields, headers, **urlopen_kw)\u001b[0m\n\u001b[1;32m     77\u001b[0m     \u001b[38;5;28;01mreturn\u001b[39;00m \u001b[38;5;28mself\u001b[39m\u001b[38;5;241m.\u001b[39mrequest_encode_url(\n\u001b[1;32m     78\u001b[0m         method, url, fields\u001b[38;5;241m=\u001b[39mfields, headers\u001b[38;5;241m=\u001b[39mheaders, \u001b[38;5;241m*\u001b[39m\u001b[38;5;241m*\u001b[39murlopen_kw\n\u001b[1;32m     79\u001b[0m     )\n\u001b[1;32m     80\u001b[0m \u001b[38;5;28;01melse\u001b[39;00m:\n\u001b[0;32m---> 81\u001b[0m     \u001b[38;5;28;01mreturn\u001b[39;00m \u001b[38;5;28;43mself\u001b[39;49m\u001b[38;5;241;43m.\u001b[39;49m\u001b[43mrequest_encode_body\u001b[49m\u001b[43m(\u001b[49m\n\u001b[1;32m     82\u001b[0m \u001b[43m        \u001b[49m\u001b[43mmethod\u001b[49m\u001b[43m,\u001b[49m\u001b[43m \u001b[49m\u001b[43murl\u001b[49m\u001b[43m,\u001b[49m\u001b[43m \u001b[49m\u001b[43mfields\u001b[49m\u001b[38;5;241;43m=\u001b[39;49m\u001b[43mfields\u001b[49m\u001b[43m,\u001b[49m\u001b[43m \u001b[49m\u001b[43mheaders\u001b[49m\u001b[38;5;241;43m=\u001b[39;49m\u001b[43mheaders\u001b[49m\u001b[43m,\u001b[49m\u001b[43m \u001b[49m\u001b[38;5;241;43m*\u001b[39;49m\u001b[38;5;241;43m*\u001b[39;49m\u001b[43murlopen_kw\u001b[49m\n\u001b[1;32m     83\u001b[0m \u001b[43m    \u001b[49m\u001b[43m)\u001b[49m\n",
      "File \u001b[0;32m~/.local/share/virtualenvs/Jupyter-K0eqoyk3/lib/python3.10/site-packages/urllib3/request.py:173\u001b[0m, in \u001b[0;36mRequestMethods.request_encode_body\u001b[0;34m(self, method, url, fields, headers, encode_multipart, multipart_boundary, **urlopen_kw)\u001b[0m\n\u001b[1;32m    170\u001b[0m extra_kw[\u001b[38;5;124m\"\u001b[39m\u001b[38;5;124mheaders\u001b[39m\u001b[38;5;124m\"\u001b[39m]\u001b[38;5;241m.\u001b[39mupdate(headers)\n\u001b[1;32m    171\u001b[0m extra_kw\u001b[38;5;241m.\u001b[39mupdate(urlopen_kw)\n\u001b[0;32m--> 173\u001b[0m \u001b[38;5;28;01mreturn\u001b[39;00m \u001b[38;5;28;43mself\u001b[39;49m\u001b[38;5;241;43m.\u001b[39;49m\u001b[43murlopen\u001b[49m\u001b[43m(\u001b[49m\u001b[43mmethod\u001b[49m\u001b[43m,\u001b[49m\u001b[43m \u001b[49m\u001b[43murl\u001b[49m\u001b[43m,\u001b[49m\u001b[43m \u001b[49m\u001b[38;5;241;43m*\u001b[39;49m\u001b[38;5;241;43m*\u001b[39;49m\u001b[43mextra_kw\u001b[49m\u001b[43m)\u001b[49m\n",
      "File \u001b[0;32m~/.local/share/virtualenvs/Jupyter-K0eqoyk3/lib/python3.10/site-packages/urllib3/poolmanager.py:376\u001b[0m, in \u001b[0;36mPoolManager.urlopen\u001b[0;34m(self, method, url, redirect, **kw)\u001b[0m\n\u001b[1;32m    374\u001b[0m     response \u001b[38;5;241m=\u001b[39m conn\u001b[38;5;241m.\u001b[39murlopen(method, url, \u001b[38;5;241m*\u001b[39m\u001b[38;5;241m*\u001b[39mkw)\n\u001b[1;32m    375\u001b[0m \u001b[38;5;28;01melse\u001b[39;00m:\n\u001b[0;32m--> 376\u001b[0m     response \u001b[38;5;241m=\u001b[39m \u001b[43mconn\u001b[49m\u001b[38;5;241;43m.\u001b[39;49m\u001b[43murlopen\u001b[49m\u001b[43m(\u001b[49m\u001b[43mmethod\u001b[49m\u001b[43m,\u001b[49m\u001b[43m \u001b[49m\u001b[43mu\u001b[49m\u001b[38;5;241;43m.\u001b[39;49m\u001b[43mrequest_uri\u001b[49m\u001b[43m,\u001b[49m\u001b[43m \u001b[49m\u001b[38;5;241;43m*\u001b[39;49m\u001b[38;5;241;43m*\u001b[39;49m\u001b[43mkw\u001b[49m\u001b[43m)\u001b[49m\n\u001b[1;32m    378\u001b[0m redirect_location \u001b[38;5;241m=\u001b[39m redirect \u001b[38;5;129;01mand\u001b[39;00m response\u001b[38;5;241m.\u001b[39mget_redirect_location()\n\u001b[1;32m    379\u001b[0m \u001b[38;5;28;01mif\u001b[39;00m \u001b[38;5;129;01mnot\u001b[39;00m redirect_location:\n",
      "File \u001b[0;32m~/.local/share/virtualenvs/Jupyter-K0eqoyk3/lib/python3.10/site-packages/urllib3/connectionpool.py:715\u001b[0m, in \u001b[0;36mHTTPConnectionPool.urlopen\u001b[0;34m(self, method, url, body, headers, retries, redirect, assert_same_host, timeout, pool_timeout, release_conn, chunked, body_pos, **response_kw)\u001b[0m\n\u001b[1;32m    712\u001b[0m     \u001b[38;5;28mself\u001b[39m\u001b[38;5;241m.\u001b[39m_prepare_proxy(conn)\n\u001b[1;32m    714\u001b[0m \u001b[38;5;66;03m# Make the request on the httplib connection object.\u001b[39;00m\n\u001b[0;32m--> 715\u001b[0m httplib_response \u001b[38;5;241m=\u001b[39m \u001b[38;5;28;43mself\u001b[39;49m\u001b[38;5;241;43m.\u001b[39;49m\u001b[43m_make_request\u001b[49m\u001b[43m(\u001b[49m\n\u001b[1;32m    716\u001b[0m \u001b[43m    \u001b[49m\u001b[43mconn\u001b[49m\u001b[43m,\u001b[49m\n\u001b[1;32m    717\u001b[0m \u001b[43m    \u001b[49m\u001b[43mmethod\u001b[49m\u001b[43m,\u001b[49m\n\u001b[1;32m    718\u001b[0m \u001b[43m    \u001b[49m\u001b[43murl\u001b[49m\u001b[43m,\u001b[49m\n\u001b[1;32m    719\u001b[0m \u001b[43m    \u001b[49m\u001b[43mtimeout\u001b[49m\u001b[38;5;241;43m=\u001b[39;49m\u001b[43mtimeout_obj\u001b[49m\u001b[43m,\u001b[49m\n\u001b[1;32m    720\u001b[0m \u001b[43m    \u001b[49m\u001b[43mbody\u001b[49m\u001b[38;5;241;43m=\u001b[39;49m\u001b[43mbody\u001b[49m\u001b[43m,\u001b[49m\n\u001b[1;32m    721\u001b[0m \u001b[43m    \u001b[49m\u001b[43mheaders\u001b[49m\u001b[38;5;241;43m=\u001b[39;49m\u001b[43mheaders\u001b[49m\u001b[43m,\u001b[49m\n\u001b[1;32m    722\u001b[0m \u001b[43m    \u001b[49m\u001b[43mchunked\u001b[49m\u001b[38;5;241;43m=\u001b[39;49m\u001b[43mchunked\u001b[49m\u001b[43m,\u001b[49m\n\u001b[1;32m    723\u001b[0m \u001b[43m\u001b[49m\u001b[43m)\u001b[49m\n\u001b[1;32m    725\u001b[0m \u001b[38;5;66;03m# If we're going to release the connection in ``finally:``, then\u001b[39;00m\n\u001b[1;32m    726\u001b[0m \u001b[38;5;66;03m# the response doesn't need to know about the connection. Otherwise\u001b[39;00m\n\u001b[1;32m    727\u001b[0m \u001b[38;5;66;03m# it will also try to release it and we'll have a double-release\u001b[39;00m\n\u001b[1;32m    728\u001b[0m \u001b[38;5;66;03m# mess.\u001b[39;00m\n\u001b[1;32m    729\u001b[0m response_conn \u001b[38;5;241m=\u001b[39m conn \u001b[38;5;28;01mif\u001b[39;00m \u001b[38;5;129;01mnot\u001b[39;00m release_conn \u001b[38;5;28;01melse\u001b[39;00m \u001b[38;5;28;01mNone\u001b[39;00m\n",
      "File \u001b[0;32m~/.local/share/virtualenvs/Jupyter-K0eqoyk3/lib/python3.10/site-packages/urllib3/connectionpool.py:467\u001b[0m, in \u001b[0;36mHTTPConnectionPool._make_request\u001b[0;34m(self, conn, method, url, timeout, chunked, **httplib_request_kw)\u001b[0m\n\u001b[1;32m    462\u001b[0m             httplib_response \u001b[38;5;241m=\u001b[39m conn\u001b[38;5;241m.\u001b[39mgetresponse()\n\u001b[1;32m    463\u001b[0m         \u001b[38;5;28;01mexcept\u001b[39;00m \u001b[38;5;167;01mBaseException\u001b[39;00m \u001b[38;5;28;01mas\u001b[39;00m e:\n\u001b[1;32m    464\u001b[0m             \u001b[38;5;66;03m# Remove the TypeError from the exception chain in\u001b[39;00m\n\u001b[1;32m    465\u001b[0m             \u001b[38;5;66;03m# Python 3 (including for exceptions like SystemExit).\u001b[39;00m\n\u001b[1;32m    466\u001b[0m             \u001b[38;5;66;03m# Otherwise it looks like a bug in the code.\u001b[39;00m\n\u001b[0;32m--> 467\u001b[0m             \u001b[43msix\u001b[49m\u001b[38;5;241;43m.\u001b[39;49m\u001b[43mraise_from\u001b[49m\u001b[43m(\u001b[49m\u001b[43me\u001b[49m\u001b[43m,\u001b[49m\u001b[43m \u001b[49m\u001b[38;5;28;43;01mNone\u001b[39;49;00m\u001b[43m)\u001b[49m\n\u001b[1;32m    468\u001b[0m \u001b[38;5;28;01mexcept\u001b[39;00m (SocketTimeout, BaseSSLError, SocketError) \u001b[38;5;28;01mas\u001b[39;00m e:\n\u001b[1;32m    469\u001b[0m     \u001b[38;5;28mself\u001b[39m\u001b[38;5;241m.\u001b[39m_raise_timeout(err\u001b[38;5;241m=\u001b[39me, url\u001b[38;5;241m=\u001b[39murl, timeout_value\u001b[38;5;241m=\u001b[39mread_timeout)\n",
      "File \u001b[0;32m<string>:3\u001b[0m, in \u001b[0;36mraise_from\u001b[0;34m(value, from_value)\u001b[0m\n",
      "File \u001b[0;32m~/.local/share/virtualenvs/Jupyter-K0eqoyk3/lib/python3.10/site-packages/urllib3/connectionpool.py:462\u001b[0m, in \u001b[0;36mHTTPConnectionPool._make_request\u001b[0;34m(self, conn, method, url, timeout, chunked, **httplib_request_kw)\u001b[0m\n\u001b[1;32m    459\u001b[0m \u001b[38;5;28;01mexcept\u001b[39;00m \u001b[38;5;167;01mTypeError\u001b[39;00m:\n\u001b[1;32m    460\u001b[0m     \u001b[38;5;66;03m# Python 3\u001b[39;00m\n\u001b[1;32m    461\u001b[0m     \u001b[38;5;28;01mtry\u001b[39;00m:\n\u001b[0;32m--> 462\u001b[0m         httplib_response \u001b[38;5;241m=\u001b[39m \u001b[43mconn\u001b[49m\u001b[38;5;241;43m.\u001b[39;49m\u001b[43mgetresponse\u001b[49m\u001b[43m(\u001b[49m\u001b[43m)\u001b[49m\n\u001b[1;32m    463\u001b[0m     \u001b[38;5;28;01mexcept\u001b[39;00m \u001b[38;5;167;01mBaseException\u001b[39;00m \u001b[38;5;28;01mas\u001b[39;00m e:\n\u001b[1;32m    464\u001b[0m         \u001b[38;5;66;03m# Remove the TypeError from the exception chain in\u001b[39;00m\n\u001b[1;32m    465\u001b[0m         \u001b[38;5;66;03m# Python 3 (including for exceptions like SystemExit).\u001b[39;00m\n\u001b[1;32m    466\u001b[0m         \u001b[38;5;66;03m# Otherwise it looks like a bug in the code.\u001b[39;00m\n\u001b[1;32m    467\u001b[0m         six\u001b[38;5;241m.\u001b[39mraise_from(e, \u001b[38;5;28;01mNone\u001b[39;00m)\n",
      "File \u001b[0;32m/Library/Frameworks/Python.framework/Versions/3.10/lib/python3.10/http/client.py:1375\u001b[0m, in \u001b[0;36mHTTPConnection.getresponse\u001b[0;34m(self)\u001b[0m\n\u001b[1;32m   1373\u001b[0m \u001b[38;5;28;01mtry\u001b[39;00m:\n\u001b[1;32m   1374\u001b[0m     \u001b[38;5;28;01mtry\u001b[39;00m:\n\u001b[0;32m-> 1375\u001b[0m         \u001b[43mresponse\u001b[49m\u001b[38;5;241;43m.\u001b[39;49m\u001b[43mbegin\u001b[49m\u001b[43m(\u001b[49m\u001b[43m)\u001b[49m\n\u001b[1;32m   1376\u001b[0m     \u001b[38;5;28;01mexcept\u001b[39;00m \u001b[38;5;167;01mConnectionError\u001b[39;00m:\n\u001b[1;32m   1377\u001b[0m         \u001b[38;5;28mself\u001b[39m\u001b[38;5;241m.\u001b[39mclose()\n",
      "File \u001b[0;32m/Library/Frameworks/Python.framework/Versions/3.10/lib/python3.10/http/client.py:318\u001b[0m, in \u001b[0;36mHTTPResponse.begin\u001b[0;34m(self)\u001b[0m\n\u001b[1;32m    316\u001b[0m \u001b[38;5;66;03m# read until we get a non-100 response\u001b[39;00m\n\u001b[1;32m    317\u001b[0m \u001b[38;5;28;01mwhile\u001b[39;00m \u001b[38;5;28;01mTrue\u001b[39;00m:\n\u001b[0;32m--> 318\u001b[0m     version, status, reason \u001b[38;5;241m=\u001b[39m \u001b[38;5;28;43mself\u001b[39;49m\u001b[38;5;241;43m.\u001b[39;49m\u001b[43m_read_status\u001b[49m\u001b[43m(\u001b[49m\u001b[43m)\u001b[49m\n\u001b[1;32m    319\u001b[0m     \u001b[38;5;28;01mif\u001b[39;00m status \u001b[38;5;241m!=\u001b[39m CONTINUE:\n\u001b[1;32m    320\u001b[0m         \u001b[38;5;28;01mbreak\u001b[39;00m\n",
      "File \u001b[0;32m/Library/Frameworks/Python.framework/Versions/3.10/lib/python3.10/http/client.py:279\u001b[0m, in \u001b[0;36mHTTPResponse._read_status\u001b[0;34m(self)\u001b[0m\n\u001b[1;32m    278\u001b[0m \u001b[38;5;28;01mdef\u001b[39;00m \u001b[38;5;21m_read_status\u001b[39m(\u001b[38;5;28mself\u001b[39m):\n\u001b[0;32m--> 279\u001b[0m     line \u001b[38;5;241m=\u001b[39m \u001b[38;5;28mstr\u001b[39m(\u001b[38;5;28;43mself\u001b[39;49m\u001b[38;5;241;43m.\u001b[39;49m\u001b[43mfp\u001b[49m\u001b[38;5;241;43m.\u001b[39;49m\u001b[43mreadline\u001b[49m\u001b[43m(\u001b[49m\u001b[43m_MAXLINE\u001b[49m\u001b[43m \u001b[49m\u001b[38;5;241;43m+\u001b[39;49m\u001b[43m \u001b[49m\u001b[38;5;241;43m1\u001b[39;49m\u001b[43m)\u001b[49m, \u001b[38;5;124m\"\u001b[39m\u001b[38;5;124miso-8859-1\u001b[39m\u001b[38;5;124m\"\u001b[39m)\n\u001b[1;32m    280\u001b[0m     \u001b[38;5;28;01mif\u001b[39;00m \u001b[38;5;28mlen\u001b[39m(line) \u001b[38;5;241m>\u001b[39m _MAXLINE:\n\u001b[1;32m    281\u001b[0m         \u001b[38;5;28;01mraise\u001b[39;00m LineTooLong(\u001b[38;5;124m\"\u001b[39m\u001b[38;5;124mstatus line\u001b[39m\u001b[38;5;124m\"\u001b[39m)\n",
      "File \u001b[0;32m/Library/Frameworks/Python.framework/Versions/3.10/lib/python3.10/socket.py:705\u001b[0m, in \u001b[0;36mSocketIO.readinto\u001b[0;34m(self, b)\u001b[0m\n\u001b[1;32m    703\u001b[0m \u001b[38;5;28;01mwhile\u001b[39;00m \u001b[38;5;28;01mTrue\u001b[39;00m:\n\u001b[1;32m    704\u001b[0m     \u001b[38;5;28;01mtry\u001b[39;00m:\n\u001b[0;32m--> 705\u001b[0m         \u001b[38;5;28;01mreturn\u001b[39;00m \u001b[38;5;28;43mself\u001b[39;49m\u001b[38;5;241;43m.\u001b[39;49m\u001b[43m_sock\u001b[49m\u001b[38;5;241;43m.\u001b[39;49m\u001b[43mrecv_into\u001b[49m\u001b[43m(\u001b[49m\u001b[43mb\u001b[49m\u001b[43m)\u001b[49m\n\u001b[1;32m    706\u001b[0m     \u001b[38;5;28;01mexcept\u001b[39;00m timeout:\n\u001b[1;32m    707\u001b[0m         \u001b[38;5;28mself\u001b[39m\u001b[38;5;241m.\u001b[39m_timeout_occurred \u001b[38;5;241m=\u001b[39m \u001b[38;5;28;01mTrue\u001b[39;00m\n",
      "\u001b[0;31mKeyboardInterrupt\u001b[0m: "
     ]
    }
   ],
   "source": [
    "from selenium import webdriver\n",
    "from selenium.webdriver.common.by import By\n",
    "import time\n",
    "\n",
    "driver = webdriver.Safari()\n",
    "searchString= \"boeing\"\n",
    "\n",
    "# Liste für die Links erstellen\n",
    "links_list = []\n",
    "\n",
    "# WebDriver für Safari initialisieren\n",
    "\n",
    "\n",
    "try:\n",
    "    # Webseite öffnen\n",
    "    driver.get(f'https://www.reuters.com/site-search/?query={searchString}&offset=20')\n",
    "    \n",
    "    # Warten, um sicherzustellen, dass die Seite vollständig geladen ist\n",
    "    time.sleep(2)\n",
    "    \n",
    "    # Element mit der Anzahl der Artikel finden \n",
    "    element = driver.find_element(By.CSS_SELECTOR, 'span.search-results__text__13FtQ')\n",
    "    \n",
    "    # Gesamtzahl der Artikel extrahieren und berechnen, wie viele Seiten besucht werden müssen\n",
    "    total_articles = int(element.text.split()[-1])\n",
    "    pages = -(-total_articles // 20)  # Aufrunden der Division\n",
    "\n",
    "    for page in range(1, pages):\n",
    "        \n",
    "        if page > 2:  # Bei der ersten Seite sind wir bereits, keine Notwendigkeit die Seite neu zu laden\n",
    "            driver.get(f'https://www.reuters.com/site-search/?query={searchString}&offset={page * 20}')\n",
    "            time.sleep(5)\n",
    "        \n",
    "        # Alle Blöcke mit der angegebenen Klasse finden\n",
    "        items = driver.find_elements(By.CSS_SELECTOR, 'li.search-results__item__2oqiX')\n",
    "        for item in items:\n",
    "            # Innerhalb jedes Items nach dem Link-Element suchen\n",
    "            link_element = item.find_element(By.CSS_SELECTOR, 'div.basic-card__container__2c0tk.default')\n",
    "            link = link_element.get_attribute('href')\n",
    "            links_list.append(link)\n",
    "        print(f'Es wird Seite {page} von {pages} auf Links von Artikeln untersucht!')\n",
    "\n",
    "\n",
    "finally:\n",
    "    # Browser schließen\n",
    "    driver.quit()\n",
    "\n",
    "# Doppelt genannte Artikel entfernen\n",
    "unique_links_list = list(set(links_list))\n",
    "\n",
    "# Ausgabe der gesammelten Links \n",
    "print(\"Fertig! Die Variable unique_links_lsit enthält alle Links zu passenden Artikeln.\")\n"
   ]
  },
  {
   "cell_type": "markdown",
   "id": "40e44f78-0764-4511-9cd6-e053d4d40cb7",
   "metadata": {},
   "source": [
    "### Die gesammelten Links in einer CSV speichern"
   ]
  },
  {
   "cell_type": "code",
   "execution_count": 50,
   "id": "c627f6f4-e649-43fc-b7eb-cf744b3f48e2",
   "metadata": {},
   "outputs": [
    {
     "name": "stdout",
     "output_type": "stream",
     "text": [
      "Links wurden erfolgreich in gesammelte_links.csv gespeichert.\n"
     ]
    }
   ],
   "source": [
    "import csv\n",
    "\n",
    "# Angenommen, links_list ist deine Liste mit Links\n",
    "\n",
    "\n",
    "# Pfad zur CSV-Datei, die du erstellen möchtest\n",
    "file_path = 'gesammelte_links.csv'\n",
    "\n",
    "# CSV-Datei öffnen und Links schreiben\n",
    "with open(file_path, mode='w', newline='', encoding='utf-8') as file:\n",
    "    writer = csv.writer(file)\n",
    "    \n",
    "    # Für jeden Link eine Zeile in der CSV-Datei erstellen\n",
    "    for link in unique_links_list:\n",
    "        writer.writerow([f\"https://www.reuters.com{link}\"])\n",
    "\n",
    "print(f\"Links wurden erfolgreich in {file_path} gespeichert.\")\n"
   ]
  },
  {
   "cell_type": "markdown",
   "id": "2166b2b2-4d9d-4152-ab33-7cc1c2028670",
   "metadata": {},
   "source": [
    "### Crawler für jeden einzelnen Artikel und dessen Content \n",
    "\n",
    "Link zum Beispielartikel:\n",
    "https://www.reuters.com/business/aerospace-defense/airbus-open-second-china-assembly-line-finalises-jet-order-2023-04-06/"
   ]
  },
  {
   "cell_type": "code",
   "execution_count": 15,
   "id": "3601a49f-568a-404a-8cb6-e753413bc823",
   "metadata": {},
   "outputs": [
    {
     "name": "stdout",
     "output_type": "stream",
     "text": [
      "Autor: Michel Rose\n",
      "Titel: Airbus to open new China assembly line amid recovery\n",
      "Abteilung: Aerospace & Defense\n",
      "Datum: April 6, 2023\n",
      "Zeit: 5:54 PM GMT+2\n",
      "Text: BEIJING/PARIS, April 6 (Reuters) - Europe's Airbus (AIR.PA), opens new tab moved to double capacity in China and strengthen access to the world's second-largest aviation market by agreeing on Thursday to build a second Chinese assembly line, as domestic travel returns to pre-pandemic levels. The world's largest planemaker, which has overtaken Boeing as a supplier to China amid tensions between Washington and Beijing, also got the go-ahead to deliver 160 jets already sold but failed to win new orders during a French state visit. \"The recovery here is quite impressive. We see very strong momentum,\" Airbus Chief Executive Guillaume Faury told reporters during his first visit to China since the COVID-19 crisis. Airbus says China’s traffic will grow by 5.3% annually over the next two decades, outstripping a global average of 3.6%. The France-based group has been assembling its best-selling A320-family planes in Tianjin outside the capital since 2008. The existing line puts together four jets a month from major parts shipped from Europe and complemented by a local supply chain, with plans to reach monthly capacity of six this year. The new plant will double that and bring to 10 the number of Airbus assembly lines operating or planned worldwide, including four in Germany, two in France and two in the United States. Apart from a foray into China by a predecessor company in the 1990s, Boeing has pursued a different industrial strategy, with assembly concentrated in two regions of the United States. Faury said the expansion would boost the European company's plans to lift output of the single-aisle A320neo to 75 a month in 2026, from 45 at end-2022, and leave some \"surge capacity\". The target has been delayed following havoc in global supply chains, but Airbus says it is pulling together a resilient system. Shares in the planemaker rose more than 1%. A separate framework or \"general terms agreement\" authorises the delivery to China of 160 aircraft already on Airbus' books, including 150 single-aisle jets and 10 A350s. Witnessed by reporters, Faury signed the agreements a day after Macron said Europe must resist reducing trade and diplomatic ties with China following tensions between China and the West. However, the lack of new business fell short of some expectations after an official in Macron's office earlier said the trip would not merely consist of repackaging announcements. Industry sources said Airbus was negotiating new orders on the sidelines of Macron's trip, but no immediate announcement was expected. In November, China approved existing deals for 140 Airbus jets during a visit by German Chancellor Olaf Scholz. Diplomats say the bundling of big-ticket aircraft orders is carefully crafted at such summits, but industry officials said there was no double-counting between the two European visits. \"Part of it is diplomacy; the more is announced for Europe, that is also a way of sending a message to the Americans,\" said a person with detailed knowledge of past China jet negotiations. In the past, China has tended to split jet purchases between Airbus and Boeing but deals with the U.S. planemaker have slowed significantly in recent years amid trade or political tensions. Plans for an assembly line in China are likely to capture attention in India, a growing economic and strategic rival whose aviation minister last month called on both Airbus and Boeing to set up local jetliner assembly following record plane orders. Asked about the company's footprint in India, Faury told Reuters in Beijing that Airbus was already deeply engaged in setting up assembly of the C295 military transporter in India.\n"
     ]
    }
   ],
   "source": [
    "from selenium import webdriver\n",
    "from selenium.webdriver.firefox.options import Options\n",
    "from selenium.webdriver.common.desired_capabilities import DesiredCapabilities\n",
    "from selenium.common.exceptions import NoSuchElementException \n",
    "from selenium.webdriver.common.by import By\n",
    "'''\n",
    "#________________________________________________________________________\n",
    "# Nur wenn Firefox verwendet werden soll\n",
    "from selenium.webdriver.firefox.options import Options as FirefoxOptions\n",
    "\n",
    "# Benutzerdefinierten User-Agent String festlegen\n",
    "CUSTOM_USER_AGENT = \"Mozilla/5.0 (Windows NT 10.0; Win64; x64)\"\n",
    "\n",
    "# FirefoxOptions instanzieren\n",
    "options = FirefoxOptions()\n",
    "\n",
    "# Den User-Agent im Firefox durch Options ändern\n",
    "options.set_preference(\"general.useragent.override\", CUSTOM_USER_AGENT)\n",
    "#options.add_argument(\"--headless\")\n",
    "\n",
    "# Für lokale WebDriver-Sitzungen, Firefox direkt instanziieren:\n",
    "driver = webdriver.Firefox(options=options)\n",
    "#________________________________________________________________________\n",
    "'''\n",
    "\n",
    "#_____________________________________________\n",
    "# Nur wenn Safari verwendet werden soll\n",
    "driver = webdriver.Safari()\n",
    "#_____________________________________________\n",
    "\n",
    "\n",
    "# URL des Artikels\n",
    "url = \"https://www.reuters.com/business/aerospace-defense/airbus-open-second-china-assembly-line-finalises-jet-order-2023-04-06/\"\n",
    "\n",
    "# Öffne die Webseite\n",
    "driver.get(url)\n",
    "\n",
    "# Warte einen Moment, um sicherzustellen, dass die Seite geladen ist\n",
    "driver.implicitly_wait(5)\n",
    "\n",
    "\n",
    "# Autor extrahieren\n",
    "try:\n",
    "    # Versuche, das Element mit dem ersten Selector zu finden\n",
    "    autor_element = driver.find_element(By.CSS_SELECTOR, '[rel=\"author\"]')\n",
    "except NoSuchElementException:\n",
    "    # Wenn das Element nicht gefunden wurde, versuche es mit dem zweiten Selector\n",
    "    try:\n",
    "        autor_element = driver.find_element(By.CSS_SELECTOR, '[class=\"text__text__1FZLe text__dark-grey__3Ml43 text__medium__1kbOh text__small__1kGq2 info-content__author__1GnSx\"]')\n",
    "    except NoSuchElementException:\n",
    "        autor = \"Autor nicht gefunden\"\n",
    "autor = autor_element.text\n",
    "\n",
    "\n",
    "# Titel extrahieren\n",
    "try:\n",
    "    # Versuche, das Element mit dem ersten Selector zu finden\n",
    "    titel_element = driver.find_element(By.CSS_SELECTOR, '[class=\"text__text__1FZLe text__dark-grey__3Ml43 text__medium__1kbOh text__heading_3__1kDhc heading__base__2T28j heading__heading_3__3aL54\"]')\n",
    "except NoSuchElementException:\n",
    "    titel = \"Titel nicht gefunden\"\n",
    "titel = titel_element.text\n",
    "\n",
    "\n",
    "# Abteilung / Bereich extrahieren\n",
    "try:\n",
    "    bereich_element= driver.find_element(By.CSS_SELECTOR, '[class=\"text__text__1FZLe text__dark-grey__3Ml43 text__regular__2N1Xr text__extra_small__1Mw6v link__link__3Ji6W link__underline_on_hover__2zGL4 tags-with-tooltip__link__3Mb0Y\"]')\n",
    "except NoSuchElementException:\n",
    "    bereich = \"Bereich nicht gefunden\"\n",
    "bereich = bereich_element.text\n",
    "\n",
    "\n",
    "# Erscheinungsdatum und Uhrzeit extrahieren\n",
    "datum_zeit_elemente = driver.find_elements(By.CSS_SELECTOR, 'time[data-testid=\"Body\"] .date-line__date___kNbY')\n",
    "datum = datum_zeit_elemente[0].text if datum_zeit_elemente else 'Datum nicht gefunden'\n",
    "zeit = datum_zeit_elemente[1].text if len(datum_zeit_elemente) > 1 else 'Zeit nicht gefunden'\n",
    "\n",
    "\n",
    "# Text extrahieren\n",
    "try: # Ein Text ist in mehrere Paragraphen unterteilt\n",
    "    paragraphs_elements = driver.find_elements(By.CSS_SELECTOR, 'div.article-body__paragraph__2-BtD')\n",
    "except NoSuchElementException:\n",
    "    bereich = \"Text nicht gefunden\"\n",
    "\n",
    "# Extrahiere den Text aus jedem Paragraphen\n",
    "text = \" \".join([paragraph.text for paragraph in paragraphs_elements])\n",
    "    \n",
    "\n",
    "# Ausgabe der extrahierten Informationen\n",
    "print(\"Autor:\", autor)\n",
    "print(\"Titel:\", titel)\n",
    "print(\"Abteilung:\", bereich)\n",
    "print(\"Datum:\", datum)\n",
    "print(\"Zeit:\", zeit)\n",
    "print(\"Text:\", text)\n",
    "\n",
    "\n",
    "\n",
    "# WebDriver schließen\n",
    "driver.quit()\n"
   ]
  },
  {
   "cell_type": "raw",
   "id": "fd0e08fb-15c8-4c06-8867-fd63110af118",
   "metadata": {},
   "source": []
  }
 ],
 "metadata": {
  "kernelspec": {
   "display_name": "Python 3 (ipykernel)",
   "language": "python",
   "name": "python3"
  },
  "language_info": {
   "codemirror_mode": {
    "name": "ipython",
    "version": 3
   },
   "file_extension": ".py",
   "mimetype": "text/x-python",
   "name": "python",
   "nbconvert_exporter": "python",
   "pygments_lexer": "ipython3",
   "version": "3.10.11"
  }
 },
 "nbformat": 4,
 "nbformat_minor": 5
}
